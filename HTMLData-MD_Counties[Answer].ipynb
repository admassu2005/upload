{
 "cells": [
  {
   "cell_type": "code",
   "execution_count": null,
   "metadata": {},
   "outputs": [],
   "source": [
    "#import required libraries\n",
    "import requests\n",
    "from bs4 import BeautifulSoup\n",
    "\n",
    "import pandas as pd"
   ]
  },
  {
   "cell_type": "code",
   "execution_count": null,
   "metadata": {},
   "outputs": [],
   "source": [
    "#set the webpage link to the variable \"url\"\n",
    "url = \"https://en.wikipedia.org/wiki/List_of_counties_in_Maryland#List_of_counties\""
   ]
  },
  {
   "cell_type": "code",
   "execution_count": null,
   "metadata": {},
   "outputs": [],
   "source": [
    "#connect to the website\n",
    "webpage = requests.get(url)"
   ]
  },
  {
   "cell_type": "code",
   "execution_count": null,
   "metadata": {},
   "outputs": [],
   "source": [
    "#check verification & permission status\n",
    "webpage.status_code"
   ]
  },
  {
   "cell_type": "code",
   "execution_count": null,
   "metadata": {},
   "outputs": [],
   "source": [
    "#save HTML content (string type) to a variable\n",
    "HTML_str = webpage.text"
   ]
  },
  {
   "cell_type": "code",
   "execution_count": null,
   "metadata": {},
   "outputs": [],
   "source": [
    "#parse the string text into HTML/XML using BeautifulSoup function\n",
    "soup = BeautifulSoup(HTML_str, \"lxml\")"
   ]
  },
  {
   "cell_type": "code",
   "execution_count": null,
   "metadata": {},
   "outputs": [],
   "source": [
    "#search for the <table> tag that has the class \"wikisortable\"\n",
    "table = soup.find('table', class_='wikitable sortable')"
   ]
  },
  {
   "cell_type": "code",
   "execution_count": null,
   "metadata": {},
   "outputs": [],
   "source": [
    "#find all the <th> tags in the <table> tag that was found\n",
    "#this is a list\n",
    "table.find_all('th')"
   ]
  },
  {
   "cell_type": "code",
   "execution_count": null,
   "metadata": {},
   "outputs": [],
   "source": [
    "#empty list to hold the names of counties\n",
    "cnty_namels = []\n",
    "\n",
    "#dictionary with empty lists as values to hold other table info\n",
    "cnty_info = {'FIPSCode':[],\n",
    "             'CountySeat':[],\n",
    "             'YearEstablished':[], \n",
    "             'Origin':[], \n",
    "             'Etymology':[],\n",
    "             'Population':[], \n",
    "             'Area':[]}\n",
    "\n",
    "#for each <tr> (row) in all of the rows that exist in the table\n",
    "for row in table.find_all('tr'):\n",
    "    \n",
    "    #get all <th> tags, save to variable\n",
    "    th_tags = row.find_all('th')\n",
    "    \n",
    "    #get data from rows that only have 1 <th> tag\n",
    "    #NOTE: column header row on table has 11 <th> tags, so it doesn't meet the check\n",
    "    if len(th_tags) == 1: \n",
    "        cnty_namels.append(th_tags[0].find(text=True))\n",
    "    \n",
    "    #get all the <td> tags for the row\n",
    "    td_tags = row.find_all('td')\n",
    "    \n",
    "    #check to see if the row 10 <td> tags\n",
    "    if len(td_tags) == 10:\n",
    "    \n",
    "        #get data from each <td> tag needed; append to list in dict\n",
    "        cnty_info['FIPSCode'].append(td_tags[0].find(text=True))\n",
    "        cnty_info['CountySeat'].append(td_tags[1].find(text=True))\n",
    "        cnty_info['YearEstablished'].append(td_tags[2].find(text=True))\n",
    "        cnty_info['Origin'].append(td_tags[3].find(text=True))\n",
    "        cnty_info['Etymology'].append(td_tags[4].find(text=True))\n",
    "        cnty_info['Population'].append(td_tags[7].find(text=True))\n",
    "        cnty_info['Area'].append(td_tags[8].find(text=True))"
   ]
  },
  {
   "cell_type": "code",
   "execution_count": null,
   "metadata": {},
   "outputs": [],
   "source": [
    "#check for data in \"cnty_namels\" variable\n",
    "cnty_namels"
   ]
  },
  {
   "cell_type": "code",
   "execution_count": null,
   "metadata": {},
   "outputs": [],
   "source": [
    "#check data in \"Area\" key in \"cnty_info\" dictionary\n",
    "cnty_info['Area']"
   ]
  },
  {
   "cell_type": "code",
   "execution_count": null,
   "metadata": {},
   "outputs": [],
   "source": [
    "#start a dataframe with one column made from \"cnty_namels\" variable\n",
    "MDcounties_df = pd.DataFrame({'CountyName':cnty_namels})"
   ]
  },
  {
   "cell_type": "code",
   "execution_count": null,
   "metadata": {},
   "outputs": [],
   "source": [
    "#check info in dataframe\n",
    "MDcounties_df"
   ]
  },
  {
   "cell_type": "code",
   "execution_count": null,
   "metadata": {},
   "outputs": [],
   "source": [
    "#the .items() function gives back the key and value from a dictionary\n",
    "for key, value in cnty_info.items():\n",
    "    \n",
    "    #use the key to create the column name on the dataframe (or update info in a column)\n",
    "    #use the value to add the info to a new row\n",
    "    MDcounties_df[key] = value"
   ]
  },
  {
   "cell_type": "code",
   "execution_count": null,
   "metadata": {},
   "outputs": [],
   "source": [
    "#check the dataframe contents\n",
    "MDcounties_df"
   ]
  }
 ],
 "metadata": {
  "kernelspec": {
   "display_name": "Python 3",
   "language": "python",
   "name": "python3"
  },
  "language_info": {
   "codemirror_mode": {
    "name": "ipython",
    "version": 3
   },
   "file_extension": ".py",
   "mimetype": "text/x-python",
   "name": "python",
   "nbconvert_exporter": "python",
   "pygments_lexer": "ipython3",
   "version": "3.6.7"
  }
 },
 "nbformat": 4,
 "nbformat_minor": 2
}
